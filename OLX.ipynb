{
 "cells": [
  {
   "cell_type": "markdown",
   "id": "1c38b048-8b8a-45e1-92d8-2788684fbff2",
   "metadata": {},
   "source": [
    "# Scraping Data OLX.co.id"
   ]
  },
  {
   "cell_type": "markdown",
   "id": "c28ba051-5293-4688-97f5-21ec1a4f34e7",
   "metadata": {},
   "source": [
    "## DATA\n",
    "* Harga\n",
    "* Deskripsi\n",
    "* Lokasi\n",
    "* Nama Toko\n",
    "* No Telfon"
   ]
  },
  {
   "cell_type": "code",
   "execution_count": 1,
   "id": "be39e49b-cd52-498e-89e2-faa0d6278e51",
   "metadata": {},
   "outputs": [],
   "source": [
    "# import module\n",
    "\n",
    "import requests as re\n",
    "import time\n",
    "from selenium.webdriver.chrome.options import Options\n",
    "from selenium import webdriver\n",
    "from selenium.webdriver.chrome.service import Service\n",
    "from bs4 import BeautifulSoup\n",
    "from selenium.webdriver.common.by import By\n",
    "import pandas as pd"
   ]
  },
  {
   "cell_type": "code",
   "execution_count": 5,
   "id": "76425385-c80b-449b-ab02-9a1cd40b1ecc",
   "metadata": {},
   "outputs": [],
   "source": [
    "# Setting dan ambil data html conten\n",
    "option = webdriver.ChromeOptions()\n",
    "option.add_argument('--headless')\n",
    "\n",
    "driver = webdriver.Chrome()\n",
    "\n",
    "url = 'https://www.olx.co.id/jakarta-dki_g2000007/q-motor'\n",
    "\n",
    "driver.set_window_size(1500, 1100)\n",
    "\n",
    "driver.get(url)\n",
    "time.sleep(2)\n",
    "\n",
    "# ambil data\n",
    "content = driver.page_source\n",
    "\n",
    "# pastikan gambar page\n",
    "driver.save_screenshot('test2.png')\n",
    "driver.quit()"
   ]
  },
  {
   "cell_type": "code",
   "execution_count": 6,
   "id": "df7d69e4-e312-43bd-9a9f-ae6100600e05",
   "metadata": {},
   "outputs": [],
   "source": [
    "# PARSING DATA\n",
    "\n",
    "# parsing dengan bs4 \n",
    "soup = BeautifulSoup(content, 'html.parser') \n",
    "\n",
    "# cari setiap link produk\n",
    "link = soup.find_all('a', class_='_2cbZ2')\n",
    "\n",
    "# url awal + url hasil soup = link aslinya\n",
    "url_awal = 'https://www.olx.co.id'\n",
    "\n",
    "# Ambil nilai href dari setiap elemen yang ditemukan\n",
    "links = []\n",
    "for i in link:\n",
    "    href = i.get('href')\n",
    "    href_all = url_awal+href\n",
    "    links.append(href_all)"
   ]
  },
  {
   "cell_type": "code",
   "execution_count": 7,
   "id": "a9ea3df3-e7bf-490c-b466-bdd04376908b",
   "metadata": {},
   "outputs": [
    {
     "data": {
      "text/plain": [
       "['https://www.olx.co.id/item/kawasaki-ninja-z250-th2014-iid-904893234',\n",
       " 'https://www.olx.co.id/item/ninja-250-fi-2022-langka-perfect--iid-913548238',\n",
       " 'https://www.olx.co.id/item/sepatu-turing-dainese-size-42-iid-913843676',\n",
       " 'https://www.olx.co.id/item/vespa-primavera-2023-full-modif-iid-912709453',\n",
       " 'https://www.olx.co.id/item/honda-pcx-160-2021-harga-nett-iid-911287282',\n",
       " 'https://www.olx.co.id/item/jual-vario-150-cbs-2016-modif-sopan-kirian-full-upgrade-nego-iid-913646519',\n",
       " 'https://www.olx.co.id/item/rental-mobil-matic-murah-terpercaya-jakarta-depok-bisa-lepas-kunci-iid-908102194',\n",
       " 'https://www.olx.co.id/item/vespa-excel-150-tahun-2002-terawat-dan-orisinil-iid-898086043']"
      ]
     },
     "execution_count": 7,
     "metadata": {},
     "output_type": "execute_result"
    }
   ],
   "source": [
    "# cek link\n",
    "\n",
    "links"
   ]
  },
  {
   "cell_type": "code",
   "execution_count": 8,
   "id": "e410566a-a861-4a95-8e94-81ea389f4f5c",
   "metadata": {},
   "outputs": [],
   "source": [
    "# PENGAMBILAN SETIAP ITEM YANG DIPERLUKAN\n"
   ]
  },
  {
   "cell_type": "code",
   "execution_count": 12,
   "id": "7c461732-4961-4239-b1d5-c5259ab5be7e",
   "metadata": {},
   "outputs": [],
   "source": [
    "options = Options()\n",
    "options.add_argument('--disable-blink-features=AutomationControlled')\n",
    "\n",
    "driver = webdriver.Chrome(options=options)\n",
    "\n",
    "price = []\n",
    "description = []\n",
    "location = []\n",
    "shop = []\n",
    "call = []\n",
    "\n",
    "for item in links:\n",
    "    driver.get(item)\n",
    "    content = driver.page_source\n",
    "    \n",
    "    soup = BeautifulSoup(content, 'html.parser')\n",
    "    \n",
    "    # Adjust the find method to look for the correct class\n",
    "    harga_element = soup.find('span', class_='T8y-z')  # harga produk\n",
    "    deskripsi_element = soup.find('h1', class_='_1hJph') # deskripsi produk\n",
    "    lokasi_element = soup.find('span', class_='_1RkZP') # lokasi \n",
    "    shop_element = soup.find('div', class_='eHFQs') # nama toko\n",
    "    \n",
    "   \n",
    "\n",
    "    telepon_element = soup.find('div', class_='_2vHHs') # no televon\n",
    "\n",
    "    \n",
    "    harga = harga_element.text if harga_element else \"Not found\"\n",
    "    deskripsi = deskripsi_element.text if deskripsi_element else 'non'\n",
    "    lokasi = lokasi_element.text if lokasi_element else 'non'\n",
    "    toko = shop_element.text if shop_element else 'non'\n",
    "    telepon = telepon_element.text if telepon_element else 'non'\n",
    "   \n",
    "    price.append(harga)\n",
    "    description.append(deskripsi)\n",
    "    location.append(lokasi)\n",
    "    shop.append(toko)\n",
    "    call.append(telepon)\n",
    "\n",
    "    time.sleep(3)\n",
    "\n",
    "driver.quit()"
   ]
  },
  {
   "cell_type": "code",
   "execution_count": 9,
   "id": "6b289bfd-2577-4493-ab64-045135e8c970",
   "metadata": {},
   "outputs": [],
   "source": [
    "from selenium import webdriver\n",
    "from selenium.webdriver.chrome.options import Options\n",
    "\n",
    "options = Options()\n",
    "options.add_argument('--disable-blink-features=AutomationControlled')\n",
    "\n",
    "driver = webdriver.Chrome(options=options)\n",
    "\n",
    "for item in links:\n",
    "    driver.get(item)\n",
    "    \n",
    "    # Cek apakah tombol dengan class _2hevt ada atau tidak\n",
    "    is_button_present = False\n",
    "    try:\n",
    "        driver.find_element(By.CLASS_NAME, '_2hevt')\n",
    "        is_button_present = True\n",
    "    except:\n",
    "        pass\n",
    "    \n",
    "    if is_button_present:\n",
    "        # Lakukan sesuatu jika tombol _2hevt ditemukan\n",
    "        # Contoh: klik tombol atau lakukan tindakan lainnya\n",
    "        driver.find_element(By.CLASS_NAME, '_3AfFq').click()\n",
    "        \n",
    "        # Melanjutkan logika Anda setelah menekan tombol\n",
    "        # ...\n",
    "        \n",
    "    else:\n",
    "        # Lakukan sesuatu jika tombol _2hevt tidak ditemukan\n",
    "        # ...\n",
    "        pass\n",
    "        \n",
    "driver.quit()\n"
   ]
  },
  {
   "cell_type": "code",
   "execution_count": 13,
   "id": "61f9f042-a53c-4fe2-abec-b24d8d43630a",
   "metadata": {},
   "outputs": [
    {
     "data": {
      "text/plain": [
       "['Ciracas, Jakarta Timur, Jakarta D.K.I.',\n",
       " 'Kalideres, Jakarta Barat, Jakarta D.K.I.',\n",
       " 'Pulo Gadung, Jakarta Timur, Jakarta D.K.I.',\n",
       " 'Kembangan, Jakarta Barat, Jakarta D.K.I.',\n",
       " 'Grogol Petamburan, Jakarta Barat, Jakarta D.K.I.',\n",
       " 'Daan Mogot, Jakarta Barat, Jakarta D.K.I.',\n",
       " 'Grogol Petamburan, Jakarta Barat, Jakarta D.K.I.',\n",
       " 'Kebayoran Lama, Jakarta Selatan, Jakarta D.K.I.']"
      ]
     },
     "execution_count": 13,
     "metadata": {},
     "output_type": "execute_result"
    }
   ],
   "source": [
    "location"
   ]
  },
  {
   "cell_type": "code",
   "execution_count": 14,
   "id": "ce2462c8-9266-4231-a554-8f25148b4ef0",
   "metadata": {},
   "outputs": [
    {
     "data": {
      "text/html": [
       "<div>\n",
       "<style scoped>\n",
       "    .dataframe tbody tr th:only-of-type {\n",
       "        vertical-align: middle;\n",
       "    }\n",
       "\n",
       "    .dataframe tbody tr th {\n",
       "        vertical-align: top;\n",
       "    }\n",
       "\n",
       "    .dataframe thead th {\n",
       "        text-align: right;\n",
       "    }\n",
       "</style>\n",
       "<table border=\"1\" class=\"dataframe\">\n",
       "  <thead>\n",
       "    <tr style=\"text-align: right;\">\n",
       "      <th></th>\n",
       "      <th>Price</th>\n",
       "      <th>Description</th>\n",
       "      <th>Location</th>\n",
       "      <th>Shop</th>\n",
       "      <th>Call</th>\n",
       "    </tr>\n",
       "  </thead>\n",
       "  <tbody>\n",
       "    <tr>\n",
       "      <th>0</th>\n",
       "      <td>Rp 27.000.000</td>\n",
       "      <td>KAWASAKI NINJA Z250 Th2014</td>\n",
       "      <td>Ciracas, Jakarta Timur, Jakarta D.K.I.</td>\n",
       "      <td>Ferdi</td>\n",
       "      <td>non</td>\n",
       "    </tr>\n",
       "    <tr>\n",
       "      <th>1</th>\n",
       "      <td>Rp 54.900.000</td>\n",
       "      <td>NINJA 250 Fi 2022. Langka. Perfect !</td>\n",
       "      <td>Kalideres, Jakarta Barat, Jakarta D.K.I.</td>\n",
       "      <td>fian</td>\n",
       "      <td>non</td>\n",
       "    </tr>\n",
       "    <tr>\n",
       "      <th>2</th>\n",
       "      <td>Rp 2.500.000</td>\n",
       "      <td>SEPATU TURING DAINESE SIZE 42</td>\n",
       "      <td>Pulo Gadung, Jakarta Timur, Jakarta D.K.I.</td>\n",
       "      <td>Deni</td>\n",
       "      <td>non</td>\n",
       "    </tr>\n",
       "    <tr>\n",
       "      <th>3</th>\n",
       "      <td>Rp 55.900.000</td>\n",
       "      <td>Vespa primavera 2023 full modif</td>\n",
       "      <td>Kembangan, Jakarta Barat, Jakarta D.K.I.</td>\n",
       "      <td>Garasi Pablito</td>\n",
       "      <td>non</td>\n",
       "    </tr>\n",
       "    <tr>\n",
       "      <th>4</th>\n",
       "      <td>Rp 25.200.000</td>\n",
       "      <td>HONDA PCX 160 2021 HARGA NETT</td>\n",
       "      <td>Grogol Petamburan, Jakarta Barat, Jakarta D.K.I.</td>\n",
       "      <td>vic</td>\n",
       "      <td>non</td>\n",
       "    </tr>\n",
       "    <tr>\n",
       "      <th>5</th>\n",
       "      <td>Rp 19.000.000</td>\n",
       "      <td>JUAL VARIO 150 CBS 2016 Modif Sopan Kirian Ful...</td>\n",
       "      <td>Daan Mogot, Jakarta Barat, Jakarta D.K.I.</td>\n",
       "      <td>barokhalim</td>\n",
       "      <td>non</td>\n",
       "    </tr>\n",
       "    <tr>\n",
       "      <th>6</th>\n",
       "      <td>Rp 249.000</td>\n",
       "      <td>Rental mobil matic murah terpercaya jakarta de...</td>\n",
       "      <td>Grogol Petamburan, Jakarta Barat, Jakarta D.K.I.</td>\n",
       "      <td>hendi</td>\n",
       "      <td>non</td>\n",
       "    </tr>\n",
       "    <tr>\n",
       "      <th>7</th>\n",
       "      <td>Rp 27.500.000</td>\n",
       "      <td>Vespa Excel 150 Tahun 2002 Terawat dan orisinil</td>\n",
       "      <td>Kebayoran Lama, Jakarta Selatan, Jakarta D.K.I.</td>\n",
       "      <td>Antonio Reynold</td>\n",
       "      <td>non</td>\n",
       "    </tr>\n",
       "  </tbody>\n",
       "</table>\n",
       "</div>"
      ],
      "text/plain": [
       "           Price                                        Description  \\\n",
       "0  Rp 27.000.000                         KAWASAKI NINJA Z250 Th2014   \n",
       "1  Rp 54.900.000               NINJA 250 Fi 2022. Langka. Perfect !   \n",
       "2   Rp 2.500.000                      SEPATU TURING DAINESE SIZE 42   \n",
       "3  Rp 55.900.000                    Vespa primavera 2023 full modif   \n",
       "4  Rp 25.200.000                      HONDA PCX 160 2021 HARGA NETT   \n",
       "5  Rp 19.000.000  JUAL VARIO 150 CBS 2016 Modif Sopan Kirian Ful...   \n",
       "6     Rp 249.000  Rental mobil matic murah terpercaya jakarta de...   \n",
       "7  Rp 27.500.000    Vespa Excel 150 Tahun 2002 Terawat dan orisinil   \n",
       "\n",
       "                                           Location             Shop Call  \n",
       "0            Ciracas, Jakarta Timur, Jakarta D.K.I.            Ferdi  non  \n",
       "1          Kalideres, Jakarta Barat, Jakarta D.K.I.             fian  non  \n",
       "2        Pulo Gadung, Jakarta Timur, Jakarta D.K.I.             Deni  non  \n",
       "3          Kembangan, Jakarta Barat, Jakarta D.K.I.   Garasi Pablito  non  \n",
       "4  Grogol Petamburan, Jakarta Barat, Jakarta D.K.I.              vic  non  \n",
       "5         Daan Mogot, Jakarta Barat, Jakarta D.K.I.       barokhalim  non  \n",
       "6  Grogol Petamburan, Jakarta Barat, Jakarta D.K.I.            hendi  non  \n",
       "7   Kebayoran Lama, Jakarta Selatan, Jakarta D.K.I.  Antonio Reynold  non  "
      ]
     },
     "execution_count": 14,
     "metadata": {},
     "output_type": "execute_result"
    }
   ],
   "source": [
    "# Membuat DataFrame dari data yang sudah dikumpulkan\n",
    "\n",
    "data = {\n",
    "    'Price': price,\n",
    "    'Description': description,\n",
    "    'Location': location,\n",
    "    'Shop': shop,\n",
    "    'Call': call\n",
    "}\n",
    "\n",
    "df = pd.DataFrame(data)\n",
    "df"
   ]
  },
  {
   "cell_type": "code",
   "execution_count": 21,
   "id": "34894298-34cb-45d1-b219-bee9eb3b4cbc",
   "metadata": {},
   "outputs": [
    {
     "name": "stdout",
     "output_type": "stream",
     "text": [
      "Data telah disimpan sebagai file: data_produk1.csv\n"
     ]
    }
   ],
   "source": [
    "# UBAH MENJADI EXEL ATAU CSV\n",
    "\n",
    "# Menyimpan DataFrame ke dalam file Excel \n",
    "nama_file = 'data_produk1.csv'\n",
    "df.to_csv(nama_file, index=False)  # index=False untuk menghilangkan indeks saat disimpan\n",
    "\n",
    "print(f\"Data telah disimpan sebagai file: {nama_file}\")"
   ]
  },
  {
   "cell_type": "code",
   "execution_count": 26,
   "id": "d4d5eff2-83b4-4d43-97de-9770fc7ac974",
   "metadata": {},
   "outputs": [
    {
     "ename": "NoSuchElementException",
     "evalue": "Message: no such element: Unable to locate element: {\"method\":\"css selector\",\"selector\":\".rui-apowA rui-Ghwwu rui-UGVY0 _2XPqE PrP1G\"}\n  (Session info: chrome=120.0.6099.109); For documentation on this error, please visit: https://www.selenium.dev/documentation/webdriver/troubleshooting/errors#no-such-element-exception\nStacktrace:\n0   chromedriver                        0x0000000102bc04cc chromedriver + 4162764\n1   chromedriver                        0x0000000102bb8654 chromedriver + 4130388\n2   chromedriver                        0x000000010280fbc0 chromedriver + 293824\n3   chromedriver                        0x0000000102856040 chromedriver + 581696\n4   chromedriver                        0x0000000102895ab0 chromedriver + 842416\n5   chromedriver                        0x00000001028496bc chromedriver + 530108\n6   chromedriver                        0x000000010284a930 chromedriver + 534832\n7   chromedriver                        0x0000000102b85df8 chromedriver + 3923448\n8   chromedriver                        0x0000000102b8a3cc chromedriver + 3941324\n9   chromedriver                        0x0000000102b6e028 chromedriver + 3825704\n10  chromedriver                        0x0000000102b8af2c chromedriver + 3944236\n11  chromedriver                        0x0000000102b606e4 chromedriver + 3770084\n12  chromedriver                        0x0000000102ba7970 chromedriver + 4061552\n13  chromedriver                        0x0000000102ba7ae8 chromedriver + 4061928\n14  chromedriver                        0x0000000102bb82d4 chromedriver + 4129492\n15  libsystem_pthread.dylib             0x0000000187ddf034 _pthread_start + 136\n16  libsystem_pthread.dylib             0x0000000187dd9e3c thread_start + 8\n",
     "output_type": "error",
     "traceback": [
      "\u001b[0;31m---------------------------------------------------------------------------\u001b[0m",
      "\u001b[0;31mNoSuchElementException\u001b[0m                    Traceback (most recent call last)",
      "Cell \u001b[0;32mIn[26], line 6\u001b[0m\n\u001b[1;32m      4\u001b[0m driver \u001b[38;5;241m=\u001b[39m webdriver\u001b[38;5;241m.\u001b[39mChrome()\n\u001b[1;32m      5\u001b[0m driver\u001b[38;5;241m.\u001b[39mget(url)\n\u001b[0;32m----> 6\u001b[0m button1 \u001b[38;5;241m=\u001b[39m \u001b[43mdriver\u001b[49m\u001b[38;5;241;43m.\u001b[39;49m\u001b[43mfind_element\u001b[49m\u001b[43m(\u001b[49m\u001b[43mBy\u001b[49m\u001b[38;5;241;43m.\u001b[39;49m\u001b[43mCSS_SELECTOR\u001b[49m\u001b[43m,\u001b[49m\u001b[43m \u001b[49m\u001b[38;5;124;43m'\u001b[39;49m\u001b[38;5;124;43m.rui-apowA rui-Ghwwu rui-UGVY0 _2XPqE PrP1G\u001b[39;49m\u001b[38;5;124;43m'\u001b[39;49m\u001b[43m)\u001b[49m\n\u001b[1;32m      7\u001b[0m button1\u001b[38;5;241m.\u001b[39mclick()\n",
      "File \u001b[0;32m/Library/Frameworks/Python.framework/Versions/3.11/lib/python3.11/site-packages/selenium/webdriver/remote/webdriver.py:742\u001b[0m, in \u001b[0;36mWebDriver.find_element\u001b[0;34m(self, by, value)\u001b[0m\n\u001b[1;32m    739\u001b[0m     by \u001b[38;5;241m=\u001b[39m By\u001b[38;5;241m.\u001b[39mCSS_SELECTOR\n\u001b[1;32m    740\u001b[0m     value \u001b[38;5;241m=\u001b[39m \u001b[38;5;124mf\u001b[39m\u001b[38;5;124m'\u001b[39m\u001b[38;5;124m[name=\u001b[39m\u001b[38;5;124m\"\u001b[39m\u001b[38;5;132;01m{\u001b[39;00mvalue\u001b[38;5;132;01m}\u001b[39;00m\u001b[38;5;124m\"\u001b[39m\u001b[38;5;124m]\u001b[39m\u001b[38;5;124m'\u001b[39m\n\u001b[0;32m--> 742\u001b[0m \u001b[38;5;28;01mreturn\u001b[39;00m \u001b[38;5;28;43mself\u001b[39;49m\u001b[38;5;241;43m.\u001b[39;49m\u001b[43mexecute\u001b[49m\u001b[43m(\u001b[49m\u001b[43mCommand\u001b[49m\u001b[38;5;241;43m.\u001b[39;49m\u001b[43mFIND_ELEMENT\u001b[49m\u001b[43m,\u001b[49m\u001b[43m \u001b[49m\u001b[43m{\u001b[49m\u001b[38;5;124;43m\"\u001b[39;49m\u001b[38;5;124;43musing\u001b[39;49m\u001b[38;5;124;43m\"\u001b[39;49m\u001b[43m:\u001b[49m\u001b[43m \u001b[49m\u001b[43mby\u001b[49m\u001b[43m,\u001b[49m\u001b[43m \u001b[49m\u001b[38;5;124;43m\"\u001b[39;49m\u001b[38;5;124;43mvalue\u001b[39;49m\u001b[38;5;124;43m\"\u001b[39;49m\u001b[43m:\u001b[49m\u001b[43m \u001b[49m\u001b[43mvalue\u001b[49m\u001b[43m}\u001b[49m\u001b[43m)\u001b[49m[\u001b[38;5;124m\"\u001b[39m\u001b[38;5;124mvalue\u001b[39m\u001b[38;5;124m\"\u001b[39m]\n",
      "File \u001b[0;32m/Library/Frameworks/Python.framework/Versions/3.11/lib/python3.11/site-packages/selenium/webdriver/remote/webdriver.py:348\u001b[0m, in \u001b[0;36mWebDriver.execute\u001b[0;34m(self, driver_command, params)\u001b[0m\n\u001b[1;32m    346\u001b[0m response \u001b[38;5;241m=\u001b[39m \u001b[38;5;28mself\u001b[39m\u001b[38;5;241m.\u001b[39mcommand_executor\u001b[38;5;241m.\u001b[39mexecute(driver_command, params)\n\u001b[1;32m    347\u001b[0m \u001b[38;5;28;01mif\u001b[39;00m response:\n\u001b[0;32m--> 348\u001b[0m     \u001b[38;5;28;43mself\u001b[39;49m\u001b[38;5;241;43m.\u001b[39;49m\u001b[43merror_handler\u001b[49m\u001b[38;5;241;43m.\u001b[39;49m\u001b[43mcheck_response\u001b[49m\u001b[43m(\u001b[49m\u001b[43mresponse\u001b[49m\u001b[43m)\u001b[49m\n\u001b[1;32m    349\u001b[0m     response[\u001b[38;5;124m\"\u001b[39m\u001b[38;5;124mvalue\u001b[39m\u001b[38;5;124m\"\u001b[39m] \u001b[38;5;241m=\u001b[39m \u001b[38;5;28mself\u001b[39m\u001b[38;5;241m.\u001b[39m_unwrap_value(response\u001b[38;5;241m.\u001b[39mget(\u001b[38;5;124m\"\u001b[39m\u001b[38;5;124mvalue\u001b[39m\u001b[38;5;124m\"\u001b[39m, \u001b[38;5;28;01mNone\u001b[39;00m))\n\u001b[1;32m    350\u001b[0m     \u001b[38;5;28;01mreturn\u001b[39;00m response\n",
      "File \u001b[0;32m/Library/Frameworks/Python.framework/Versions/3.11/lib/python3.11/site-packages/selenium/webdriver/remote/errorhandler.py:229\u001b[0m, in \u001b[0;36mErrorHandler.check_response\u001b[0;34m(self, response)\u001b[0m\n\u001b[1;32m    227\u001b[0m         alert_text \u001b[38;5;241m=\u001b[39m value[\u001b[38;5;124m\"\u001b[39m\u001b[38;5;124malert\u001b[39m\u001b[38;5;124m\"\u001b[39m]\u001b[38;5;241m.\u001b[39mget(\u001b[38;5;124m\"\u001b[39m\u001b[38;5;124mtext\u001b[39m\u001b[38;5;124m\"\u001b[39m)\n\u001b[1;32m    228\u001b[0m     \u001b[38;5;28;01mraise\u001b[39;00m exception_class(message, screen, stacktrace, alert_text)  \u001b[38;5;66;03m# type: ignore[call-arg]  # mypy is not smart enough here\u001b[39;00m\n\u001b[0;32m--> 229\u001b[0m \u001b[38;5;28;01mraise\u001b[39;00m exception_class(message, screen, stacktrace)\n",
      "\u001b[0;31mNoSuchElementException\u001b[0m: Message: no such element: Unable to locate element: {\"method\":\"css selector\",\"selector\":\".rui-apowA rui-Ghwwu rui-UGVY0 _2XPqE PrP1G\"}\n  (Session info: chrome=120.0.6099.109); For documentation on this error, please visit: https://www.selenium.dev/documentation/webdriver/troubleshooting/errors#no-such-element-exception\nStacktrace:\n0   chromedriver                        0x0000000102bc04cc chromedriver + 4162764\n1   chromedriver                        0x0000000102bb8654 chromedriver + 4130388\n2   chromedriver                        0x000000010280fbc0 chromedriver + 293824\n3   chromedriver                        0x0000000102856040 chromedriver + 581696\n4   chromedriver                        0x0000000102895ab0 chromedriver + 842416\n5   chromedriver                        0x00000001028496bc chromedriver + 530108\n6   chromedriver                        0x000000010284a930 chromedriver + 534832\n7   chromedriver                        0x0000000102b85df8 chromedriver + 3923448\n8   chromedriver                        0x0000000102b8a3cc chromedriver + 3941324\n9   chromedriver                        0x0000000102b6e028 chromedriver + 3825704\n10  chromedriver                        0x0000000102b8af2c chromedriver + 3944236\n11  chromedriver                        0x0000000102b606e4 chromedriver + 3770084\n12  chromedriver                        0x0000000102ba7970 chromedriver + 4061552\n13  chromedriver                        0x0000000102ba7ae8 chromedriver + 4061928\n14  chromedriver                        0x0000000102bb82d4 chromedriver + 4129492\n15  libsystem_pthread.dylib             0x0000000187ddf034 _pthread_start + 136\n16  libsystem_pthread.dylib             0x0000000187dd9e3c thread_start + 8\n"
     ]
    }
   ],
   "source": [
    "url = 'https://www.olx.co.id/'\n",
    "\n",
    "\n",
    "driver = webdriver.Chrome()\n",
    "driver.get(url)\n",
    "button1 = driver.find_element(By.CSS_SELECTOR, '.rui-apowA rui-Ghwwu rui-UGVY0 _2XPqE PrP1G')\n",
    "button1.click()\n",
    "\n",
    "\n"
   ]
  },
  {
   "cell_type": "code",
   "execution_count": null,
   "id": "e72adb08-bbfe-4f38-a15d-c5a7c9e7133d",
   "metadata": {},
   "outputs": [],
   "source": []
  }
 ],
 "metadata": {
  "kernelspec": {
   "display_name": "Python 3 (ipykernel)",
   "language": "python",
   "name": "python3"
  },
  "language_info": {
   "codemirror_mode": {
    "name": "ipython",
    "version": 3
   },
   "file_extension": ".py",
   "mimetype": "text/x-python",
   "name": "python",
   "nbconvert_exporter": "python",
   "pygments_lexer": "ipython3",
   "version": "3.11.5"
  }
 },
 "nbformat": 4,
 "nbformat_minor": 5
}
