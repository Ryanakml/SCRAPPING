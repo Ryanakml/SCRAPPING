{
 "cells": [
  {
   "cell_type": "markdown",
   "id": "1c38b048-8b8a-45e1-92d8-2788684fbff2",
   "metadata": {},
   "source": [
    "# Scraping Data OLX.co.id"
   ]
  },
  {
   "cell_type": "markdown",
   "id": "c28ba051-5293-4688-97f5-21ec1a4f34e7",
   "metadata": {},
   "source": [
    "## DATA\n",
    "* Harga\n",
    "* Deskripsi\n",
    "* Lokasi\n",
    "* Nama Toko\n",
    "* No Telfon"
   ]
  },
  {
   "cell_type": "code",
   "execution_count": 7,
   "id": "be39e49b-cd52-498e-89e2-faa0d6278e51",
   "metadata": {},
   "outputs": [],
   "source": [
    "# import module\n",
    "\n",
    "import requests as re\n",
    "import time\n",
    "from selenium.webdriver.chrome.options import Options\n",
    "from selenium import webdriver\n",
    "from selenium.webdriver.chrome.service import Service\n",
    "from bs4 import BeautifulSoup\n",
    "from selenium.webdriver.common.by import By\n",
    "import pandas as pd"
   ]
  },
  {
   "cell_type": "code",
   "execution_count": 2,
   "id": "76425385-c80b-449b-ab02-9a1cd40b1ecc",
   "metadata": {},
   "outputs": [],
   "source": [
    "# Setting dan ambil data html conten\n",
    "option = webdriver.ChromeOptions()\n",
    "option.add_argument('--headless')\n",
    "\n",
    "driver = webdriver.Chrome()\n",
    "\n",
    "url = 'https://www.olx.co.id/jakarta-dki_g2000007/q-motor'\n",
    "\n",
    "driver.set_window_size(1500, 1100)\n",
    "\n",
    "driver.get(url)\n",
    "time.sleep(2)\n",
    "\n",
    "# ambil data\n",
    "content = driver.page_source\n",
    "\n",
    "# pastikan gambar page\n",
    "driver.save_screenshot('test2.png')\n",
    "driver.quit()"
   ]
  },
  {
   "cell_type": "code",
   "execution_count": 3,
   "id": "df7d69e4-e312-43bd-9a9f-ae6100600e05",
   "metadata": {},
   "outputs": [],
   "source": [
    "# PARSING DATA\n",
    "\n",
    "# parsing dengan bs4 \n",
    "soup = BeautifulSoup(content, 'html.parser') \n",
    "\n",
    "# cari setiap link produk\n",
    "link = soup.find_all('a', class_='_2cbZ2')\n",
    "\n",
    "# url awal + url hasil soup = link aslinya\n",
    "url_awal = 'https://www.olx.co.id'\n",
    "\n",
    "# Ambil nilai href dari setiap elemen yang ditemukan\n",
    "links = []\n",
    "for i in link:\n",
    "    href = i.get('href')\n",
    "    href_all = url_awal+href\n",
    "    links.append(href_all)"
   ]
  },
  {
   "cell_type": "code",
   "execution_count": 4,
   "id": "a9ea3df3-e7bf-490c-b466-bdd04376908b",
   "metadata": {},
   "outputs": [
    {
     "data": {
      "text/plain": [
       "['https://www.olx.co.id/item/yamaha-aerox-2018-harga-nett-iid-912157882',\n",
       " 'https://www.olx.co.id/item/scoopy-prestige-putih-2022-like-new-iid-913758133',\n",
       " 'https://www.olx.co.id/item/kawasaki-ninja-ss-asli-th-2015-hijau-istimewa-sekali-original-tgn-1-iid-911860445',\n",
       " 'https://www.olx.co.id/item/yamaha-scorpio-custom-2011-iid-913782528',\n",
       " 'https://www.olx.co.id/item/x-max-250-km-rendah-dpn-blakang-brembo-asli-original-dikasi-iid-907373759',\n",
       " 'https://www.olx.co.id/item/yamaha-fazzio-2022-km-4-rb-an-pajak-panjang-iid-912874040',\n",
       " 'https://www.olx.co.id/item/rental-mobil-matic-lepas-kunci-24-jam-iid-844084460',\n",
       " 'https://www.olx.co.id/item/sewa-rental-mobil-keluarga-manual-matik-harian-mingguan-lepas-kunci-iid-911829280',\n",
       " 'https://www.olx.co.id/item/net-honda-beat-deluxe-2021-km-1205-iid-913162538']"
      ]
     },
     "execution_count": 4,
     "metadata": {},
     "output_type": "execute_result"
    }
   ],
   "source": [
    "# cek link\n",
    "\n",
    "links"
   ]
  },
  {
   "cell_type": "code",
   "execution_count": 5,
   "id": "e410566a-a861-4a95-8e94-81ea389f4f5c",
   "metadata": {},
   "outputs": [],
   "source": [
    "# PENGAMBILAN SETIAP ITEM YANG DIPERLUKAN\n"
   ]
  },
  {
   "cell_type": "code",
   "execution_count": 8,
   "id": "7c461732-4961-4239-b1d5-c5259ab5be7e",
   "metadata": {},
   "outputs": [],
   "source": [
    "options = Options()\n",
    "options.add_argument('--disable-blink-features=AutomationControlled')\n",
    "\n",
    "driver = webdriver.Chrome(options=options)\n",
    "\n",
    "price = []\n",
    "description = []\n",
    "location = []\n",
    "shop = []\n",
    "call = []\n",
    "\n",
    "for item in links:\n",
    "    driver.get(item)\n",
    "    content = driver.page_source\n",
    "    \n",
    "    soup = BeautifulSoup(content, 'html.parser')\n",
    "    \n",
    "    # Adjust the find method to look for the correct class\n",
    "    harga_element = soup.find('span', class_='T8y-z')  # harga produk\n",
    "    deskripsi_element = soup.find('h1', class_='_1hJph') # deskripsi produk\n",
    "    lokasi_element = soup.find('span', class_='_1RkZP') # lokasi \n",
    "    shop_element = soup.find('div', class_='eHFQs') # nama toko\n",
    "    \n",
    "   \n",
    "\n",
    "    telepon_element = soup.find('div', class_='_2vHHs') # no televon\n",
    "\n",
    "    \n",
    "    harga = harga_element.text if harga_element else \"Not found\"\n",
    "    deskripsi = deskripsi_element.text if deskripsi_element else 'non'\n",
    "    lokasi = lokasi_element.text if lokasi_element else 'non'\n",
    "    toko = shop_element.text if shop_element else 'non'\n",
    "    telepon = telepon_element.text if telepon_element else 'non'\n",
    "   \n",
    "    price.append(harga)\n",
    "    description.append(deskripsi)\n",
    "    location.append(lokasi)\n",
    "    shop.append(toko)\n",
    "    call.append(telepon)\n",
    "\n",
    "    time.sleep(3)\n",
    "\n",
    "driver.quit()"
   ]
  },
  {
   "cell_type": "code",
   "execution_count": 18,
   "id": "61f9f042-a53c-4fe2-abec-b24d8d43630a",
   "metadata": {},
   "outputs": [
    {
     "data": {
      "text/plain": [
       "['Grogol Petamburan, Jakarta Barat, Jakarta D.K.I.',\n",
       " 'Cilandak, Jakarta Selatan, Jakarta D.K.I.',\n",
       " 'Palmerah, Jakarta Barat, Jakarta D.K.I.',\n",
       " 'Tebet, Jakarta Selatan, Jakarta D.K.I.',\n",
       " 'Grogol Petamburan, Jakarta Barat, Jakarta D.K.I.',\n",
       " 'Pesanggrahan, Jakarta Selatan, Jakarta D.K.I.',\n",
       " 'Senen, Jakarta Pusat, Jakarta D.K.I.',\n",
       " 'Kelapa Gading, Jakarta Utara, Jakarta D.K.I.',\n",
       " 'Kalideres, Jakarta Barat, Jakarta D.K.I.']"
      ]
     },
     "execution_count": 18,
     "metadata": {},
     "output_type": "execute_result"
    }
   ],
   "source": [
    "location"
   ]
  },
  {
   "cell_type": "code",
   "execution_count": 19,
   "id": "ce2462c8-9266-4231-a554-8f25148b4ef0",
   "metadata": {},
   "outputs": [
    {
     "data": {
      "text/html": [
       "<div>\n",
       "<style scoped>\n",
       "    .dataframe tbody tr th:only-of-type {\n",
       "        vertical-align: middle;\n",
       "    }\n",
       "\n",
       "    .dataframe tbody tr th {\n",
       "        vertical-align: top;\n",
       "    }\n",
       "\n",
       "    .dataframe thead th {\n",
       "        text-align: right;\n",
       "    }\n",
       "</style>\n",
       "<table border=\"1\" class=\"dataframe\">\n",
       "  <thead>\n",
       "    <tr style=\"text-align: right;\">\n",
       "      <th></th>\n",
       "      <th>Price</th>\n",
       "      <th>Description</th>\n",
       "      <th>Location</th>\n",
       "      <th>Shop</th>\n",
       "      <th>Call</th>\n",
       "    </tr>\n",
       "  </thead>\n",
       "  <tbody>\n",
       "    <tr>\n",
       "      <th>0</th>\n",
       "      <td>Rp 15.850.000</td>\n",
       "      <td>YAMAHA AEROX 2018 HARGA NETT</td>\n",
       "      <td>Grogol Petamburan, Jakarta Barat, Jakarta D.K.I.</td>\n",
       "      <td>vic</td>\n",
       "      <td>non</td>\n",
       "    </tr>\n",
       "    <tr>\n",
       "      <th>1</th>\n",
       "      <td>Rp 20.500.000</td>\n",
       "      <td>SCOOPY PRESTIGE PUTIH 2022 LIKE NEW</td>\n",
       "      <td>Cilandak, Jakarta Selatan, Jakarta D.K.I.</td>\n",
       "      <td>Avief</td>\n",
       "      <td>non</td>\n",
       "    </tr>\n",
       "    <tr>\n",
       "      <th>2</th>\n",
       "      <td>Rp 35.000.000</td>\n",
       "      <td>Kawasaki Ninja SS Asli th 2015 Hijau Istimewa ...</td>\n",
       "      <td>Palmerah, Jakarta Barat, Jakarta D.K.I.</td>\n",
       "      <td>Agung Mobilindo</td>\n",
       "      <td>non</td>\n",
       "    </tr>\n",
       "    <tr>\n",
       "      <th>3</th>\n",
       "      <td>Rp 29.000.000</td>\n",
       "      <td>Yamaha Scorpio Custom 2011</td>\n",
       "      <td>Tebet, Jakarta Selatan, Jakarta D.K.I.</td>\n",
       "      <td>MRS</td>\n",
       "      <td>non</td>\n",
       "    </tr>\n",
       "    <tr>\n",
       "      <th>4</th>\n",
       "      <td>Rp 53.000.000</td>\n",
       "      <td>X MAX 250 Km Rendah. Dpn blakang Brembo asli. ...</td>\n",
       "      <td>Grogol Petamburan, Jakarta Barat, Jakarta D.K.I.</td>\n",
       "      <td>Andre</td>\n",
       "      <td>non</td>\n",
       "    </tr>\n",
       "    <tr>\n",
       "      <th>5</th>\n",
       "      <td>Rp 18.850.000</td>\n",
       "      <td>Yamaha Fazzio 2022 Km 4 Rb An Pajak Panjang</td>\n",
       "      <td>Pesanggrahan, Jakarta Selatan, Jakarta D.K.I.</td>\n",
       "      <td>Diaz_Motor</td>\n",
       "      <td>non</td>\n",
       "    </tr>\n",
       "    <tr>\n",
       "      <th>6</th>\n",
       "      <td>Rp 250.000</td>\n",
       "      <td>Rental mobil matic lepas kunci 24 jam</td>\n",
       "      <td>Senen, Jakarta Pusat, Jakarta D.K.I.</td>\n",
       "      <td>Msky rent car</td>\n",
       "      <td>non</td>\n",
       "    </tr>\n",
       "    <tr>\n",
       "      <th>7</th>\n",
       "      <td>Rp 300.000</td>\n",
       "      <td>Sewa rental mobil keluarga manual matik harian...</td>\n",
       "      <td>Kelapa Gading, Jakarta Utara, Jakarta D.K.I.</td>\n",
       "      <td>Alvaro</td>\n",
       "      <td>non</td>\n",
       "    </tr>\n",
       "    <tr>\n",
       "      <th>8</th>\n",
       "      <td>Rp 13.250.000</td>\n",
       "      <td>NET ! Honda Beat Deluxe 2021 Km 1.205</td>\n",
       "      <td>Kalideres, Jakarta Barat, Jakarta D.K.I.</td>\n",
       "      <td>Ig otomotif</td>\n",
       "      <td>non</td>\n",
       "    </tr>\n",
       "  </tbody>\n",
       "</table>\n",
       "</div>"
      ],
      "text/plain": [
       "           Price                                        Description  \\\n",
       "0  Rp 15.850.000                       YAMAHA AEROX 2018 HARGA NETT   \n",
       "1  Rp 20.500.000                SCOOPY PRESTIGE PUTIH 2022 LIKE NEW   \n",
       "2  Rp 35.000.000  Kawasaki Ninja SS Asli th 2015 Hijau Istimewa ...   \n",
       "3  Rp 29.000.000                         Yamaha Scorpio Custom 2011   \n",
       "4  Rp 53.000.000  X MAX 250 Km Rendah. Dpn blakang Brembo asli. ...   \n",
       "5  Rp 18.850.000        Yamaha Fazzio 2022 Km 4 Rb An Pajak Panjang   \n",
       "6     Rp 250.000              Rental mobil matic lepas kunci 24 jam   \n",
       "7     Rp 300.000  Sewa rental mobil keluarga manual matik harian...   \n",
       "8  Rp 13.250.000              NET ! Honda Beat Deluxe 2021 Km 1.205   \n",
       "\n",
       "                                           Location             Shop Call  \n",
       "0  Grogol Petamburan, Jakarta Barat, Jakarta D.K.I.              vic  non  \n",
       "1         Cilandak, Jakarta Selatan, Jakarta D.K.I.            Avief  non  \n",
       "2           Palmerah, Jakarta Barat, Jakarta D.K.I.  Agung Mobilindo  non  \n",
       "3            Tebet, Jakarta Selatan, Jakarta D.K.I.              MRS  non  \n",
       "4  Grogol Petamburan, Jakarta Barat, Jakarta D.K.I.            Andre  non  \n",
       "5     Pesanggrahan, Jakarta Selatan, Jakarta D.K.I.       Diaz_Motor  non  \n",
       "6              Senen, Jakarta Pusat, Jakarta D.K.I.    Msky rent car  non  \n",
       "7      Kelapa Gading, Jakarta Utara, Jakarta D.K.I.           Alvaro  non  \n",
       "8          Kalideres, Jakarta Barat, Jakarta D.K.I.      Ig otomotif  non  "
      ]
     },
     "execution_count": 19,
     "metadata": {},
     "output_type": "execute_result"
    }
   ],
   "source": [
    "# Membuat DataFrame dari data yang sudah dikumpulkan\n",
    "\n",
    "data = {\n",
    "    'Price': price,\n",
    "    'Description': description,\n",
    "    'Location': location,\n",
    "    'Shop': shop,\n",
    "    'Call': call\n",
    "}\n",
    "\n",
    "df = pd.DataFrame(data)\n",
    "df"
   ]
  },
  {
   "cell_type": "code",
   "execution_count": 21,
   "id": "34894298-34cb-45d1-b219-bee9eb3b4cbc",
   "metadata": {},
   "outputs": [
    {
     "name": "stdout",
     "output_type": "stream",
     "text": [
      "Data telah disimpan sebagai file: data_produk1.csv\n"
     ]
    }
   ],
   "source": [
    "# UBAH MENJADI EXEL ATAU CSV\n",
    "\n",
    "# Menyimpan DataFrame ke dalam file Excel \n",
    "nama_file = 'data_produk1.csv'\n",
    "df.to_csv(nama_file, index=False)  # index=False untuk menghilangkan indeks saat disimpan\n",
    "\n",
    "print(f\"Data telah disimpan sebagai file: {nama_file}\")"
   ]
  },
  {
   "cell_type": "code",
   "execution_count": null,
   "id": "d4d5eff2-83b4-4d43-97de-9770fc7ac974",
   "metadata": {},
   "outputs": [],
   "source": []
  }
 ],
 "metadata": {
  "kernelspec": {
   "display_name": "Python 3 (ipykernel)",
   "language": "python",
   "name": "python3"
  },
  "language_info": {
   "codemirror_mode": {
    "name": "ipython",
    "version": 3
   },
   "file_extension": ".py",
   "mimetype": "text/x-python",
   "name": "python",
   "nbconvert_exporter": "python",
   "pygments_lexer": "ipython3",
   "version": "3.11.5"
  }
 },
 "nbformat": 4,
 "nbformat_minor": 5
}
